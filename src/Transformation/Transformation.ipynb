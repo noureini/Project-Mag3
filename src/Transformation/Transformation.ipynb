{
 "cells": [
  {
   "cell_type": "code",
   "execution_count": 73,
   "metadata": {
    "collapsed": true
   },
   "outputs": [],
   "source": [
    "import pandas as pd\n",
    "import os\n",
    "import json \n",
    "import glob\n",
    "import sqlite3, sqlalchemy\n",
    "import numpy as np \n",
    "import matplotlib.pyplot as plt\n",
    "import seaborn as sns\n",
    "from sklearn.linear_model import LinearRegression\n",
    "from sklearn.ensemble import RandomForestRegressor\n",
    "from sklearn.feature_extraction.text import CountVectorizer\n",
    "%matplotlib inline "
   ]
  },
  {
   "cell_type": "code",
   "execution_count": 7,
   "metadata": {},
   "outputs": [],
   "source": [
    "#utiliser le json indiquer les dossiers dans lesquels l'on veut travailler \n",
    "with open('../parameters.json') as json_data:\n",
    "     params = json.load(json_data)\n",
    "DATA_DIR = params['DIRECTORIES']['DATA_DIR']\n",
    "TMP_DIR = params['DIRECTORIES']['TMP_DIR']\n",
    "PRICE_FILES = params['FILES']['PRICE_FILE']\n",
    "STATION_FILES = params['FILES']['STATION_FILE']\n",
    "SERVICE_FILES = params['FILES']['SERVICE_FILE']\n",
    "GAS_DB = os.path.join(DATA_DIR, params['DATABASES']['GAS_DB'])\n"
   ]
  },
  {
   "cell_type": "code",
   "execution_count": 6,
   "metadata": {},
   "outputs": [
    {
     "data": {
      "text/plain": [
       "{'DATABASES': {'GAS_DB': 'gas.db'},\n",
       " 'DIRECTORIES': {'DATA_DIR': '../../Data', 'TMP_DIR': '../../tmp'},\n",
       " 'FILES': {'PRICE_FILE': 'prices.p',\n",
       "  'SERVICE_FILE': 'services.p',\n",
       "  'STATION_FILE': 'stations.p'}}"
      ]
     },
     "execution_count": 6,
     "metadata": {},
     "output_type": "execute_result"
    }
   ],
   "source": [
    "params\n"
   ]
  },
  {
   "cell_type": "code",
   "execution_count": 11,
   "metadata": {},
   "outputs": [],
   "source": [
    "dfall = pd.read_pickle(os.path.join(DATA_DIR, PRICE_FILES))\n",
    "dfstations = pd.read_pickle(os.path.join(DATA_DIR, STATION_FILES))\n",
    "dfservices = pd.read_pickle(os.path.join(DATA_DIR, SERVICE_FILES))"
   ]
  },
  {
   "cell_type": "code",
   "execution_count": 20,
   "metadata": {
    "collapsed": true
   },
   "outputs": [],
   "source": [
    "dfall['date_releve'] = pd.to_datetime(dfall.date_releve)"
   ]
  },
  {
   "cell_type": "code",
   "execution_count": 27,
   "metadata": {},
   "outputs": [],
   "source": [
    "moyenne_hebdo_df = (dfall\n",
    " .dropna(subset=['date_releve'])\n",
    " .groupby(['libele_carburant', pd.Grouper(key='date_releve', freq='1w')])\n",
    " .agg({'prix': np.mean})).reset_index()"
   ]
  },
  {
   "cell_type": "code",
   "execution_count": 37,
   "metadata": {},
   "outputs": [],
   "source": [
    "model_df = (dfall\n",
    " .dropna(subset=['date_releve'])\n",
    " .groupby(['id_station', 'code_postal','type_station','libele_carburant', pd.Grouper(key='date_releve', freq='1w')])\n",
    " .agg({'prix': np.mean})\n",
    " .reset_index()\n",
    " .merge(moyenne_hebdo_df,how='inner', on=['libele_carburant','date_releve'],suffixes=('_station','_moyen'))\n",
    " .assign(indice = lambda _df: _df.prix_station/_df.prix_moyen)\n",
    ")"
   ]
  },
  {
   "cell_type": "code",
   "execution_count": 35,
   "metadata": {},
   "outputs": [
    {
     "data": {
      "text/plain": [
       "(3244942, 6)"
      ]
     },
     "execution_count": 35,
     "metadata": {},
     "output_type": "execute_result"
    }
   ],
   "source": [
    "model_df.shape"
   ]
  },
  {
   "cell_type": "code",
   "execution_count": 38,
   "metadata": {},
   "outputs": [
    {
     "data": {
      "text/html": [
       "<div>\n",
       "<style>\n",
       "    .dataframe thead tr:only-child th {\n",
       "        text-align: right;\n",
       "    }\n",
       "\n",
       "    .dataframe thead th {\n",
       "        text-align: left;\n",
       "    }\n",
       "\n",
       "    .dataframe tbody tr th {\n",
       "        vertical-align: top;\n",
       "    }\n",
       "</style>\n",
       "<table border=\"1\" class=\"dataframe\">\n",
       "  <thead>\n",
       "    <tr style=\"text-align: right;\">\n",
       "      <th></th>\n",
       "      <th>id_station</th>\n",
       "      <th>code_postal</th>\n",
       "      <th>type_station</th>\n",
       "      <th>libele_carburant</th>\n",
       "      <th>date_releve</th>\n",
       "      <th>prix_station</th>\n",
       "      <th>prix_moyen</th>\n",
       "      <th>indice</th>\n",
       "    </tr>\n",
       "  </thead>\n",
       "  <tbody>\n",
       "    <tr>\n",
       "      <th>0</th>\n",
       "      <td>1000001</td>\n",
       "      <td>01000</td>\n",
       "      <td>R</td>\n",
       "      <td>E10</td>\n",
       "      <td>2015-02-08</td>\n",
       "      <td>1309.000000</td>\n",
       "      <td>1304.997704</td>\n",
       "      <td>1.003067</td>\n",
       "    </tr>\n",
       "    <tr>\n",
       "      <th>1</th>\n",
       "      <td>1000007</td>\n",
       "      <td>01000</td>\n",
       "      <td>R</td>\n",
       "      <td>E10</td>\n",
       "      <td>2015-02-08</td>\n",
       "      <td>1269.800000</td>\n",
       "      <td>1304.997704</td>\n",
       "      <td>0.973029</td>\n",
       "    </tr>\n",
       "    <tr>\n",
       "      <th>2</th>\n",
       "      <td>1000008</td>\n",
       "      <td>01000</td>\n",
       "      <td>R</td>\n",
       "      <td>E10</td>\n",
       "      <td>2015-02-08</td>\n",
       "      <td>1266.333333</td>\n",
       "      <td>1304.997704</td>\n",
       "      <td>0.970372</td>\n",
       "    </tr>\n",
       "    <tr>\n",
       "      <th>3</th>\n",
       "      <td>1000009</td>\n",
       "      <td>01000</td>\n",
       "      <td>R</td>\n",
       "      <td>E10</td>\n",
       "      <td>2015-02-08</td>\n",
       "      <td>1267.500000</td>\n",
       "      <td>1304.997704</td>\n",
       "      <td>0.971266</td>\n",
       "    </tr>\n",
       "    <tr>\n",
       "      <th>4</th>\n",
       "      <td>1100001</td>\n",
       "      <td>01100</td>\n",
       "      <td>R</td>\n",
       "      <td>E10</td>\n",
       "      <td>2015-02-08</td>\n",
       "      <td>1264.000000</td>\n",
       "      <td>1304.997704</td>\n",
       "      <td>0.968584</td>\n",
       "    </tr>\n",
       "  </tbody>\n",
       "</table>\n",
       "</div>"
      ],
      "text/plain": [
       "   id_station code_postal type_station libele_carburant date_releve  \\\n",
       "0     1000001       01000            R              E10  2015-02-08   \n",
       "1     1000007       01000            R              E10  2015-02-08   \n",
       "2     1000008       01000            R              E10  2015-02-08   \n",
       "3     1000009       01000            R              E10  2015-02-08   \n",
       "4     1100001       01100            R              E10  2015-02-08   \n",
       "\n",
       "   prix_station   prix_moyen    indice  \n",
       "0   1309.000000  1304.997704  1.003067  \n",
       "1   1269.800000  1304.997704  0.973029  \n",
       "2   1266.333333  1304.997704  0.970372  \n",
       "3   1267.500000  1304.997704  0.971266  \n",
       "4   1264.000000  1304.997704  0.968584  "
      ]
     },
     "execution_count": 38,
     "metadata": {},
     "output_type": "execute_result"
    }
   ],
   "source": [
    "model_df.head()"
   ]
  },
  {
   "cell_type": "code",
   "execution_count": 42,
   "metadata": {},
   "outputs": [
    {
     "data": {
      "text/plain": [
       "count    3.244968e+06\n",
       "mean     1.003840e+00\n",
       "std      4.763897e-02\n",
       "min      1.432598e-03\n",
       "25%      9.739224e-01\n",
       "50%      9.902344e-01\n",
       "75%      1.030410e+00\n",
       "max      2.050146e+00\n",
       "Name: indice, dtype: float64"
      ]
     },
     "execution_count": 42,
     "metadata": {},
     "output_type": "execute_result"
    }
   ],
   "source": [
    "model_df.indice.describe()"
   ]
  },
  {
   "cell_type": "code",
   "execution_count": 40,
   "metadata": {},
   "outputs": [
    {
     "data": {
      "text/plain": [
       "<matplotlib.axes._subplots.AxesSubplot at 0x1d69f178a20>"
      ]
     },
     "execution_count": 40,
     "metadata": {},
     "output_type": "execute_result"
    },
    {
     "data": {
      "image/png": "[encoded data removed]",
      "text/plain": [
       "<matplotlib.figure.Figure at 0x1d68d9677f0>"
      ]
     },
     "metadata": {},
     "output_type": "display_data"
    }
   ],
   "source": [
    "model_df.indice.hist(bins=50)"
   ]
  },
  {
   "cell_type": "code",
   "execution_count": 46,
   "metadata": {},
   "outputs": [
    {
     "data": {
      "text/plain": [
       "<12391x25 sparse matrix of type '<class 'numpy.int64'>'\n",
       "\twith 75115 stored elements in Compressed Sparse Row format>"
      ]
     },
     "execution_count": 46,
     "metadata": {},
     "output_type": "execute_result"
    }
   ],
   "source": [
    "#### Construction du vecteur de service. \n",
    "_tokenize = lambda x : x.split(',')\n",
    "vectorize = CountVectorizer(tokenizer=_tokenize, lowercase=False)\n",
    "vectorize.fit_transform(dfservices.type_service.fillna('Rien'))"
   ]
  },
  {
   "cell_type": "code",
   "execution_count": 49,
   "metadata": {},
   "outputs": [],
   "source": [
    "### Créer un sparse dataFrame pour les types de services proposés par la station.\n",
    "matrice_services_df = pd.SparseDataFrame(vectorize.fit_transform(dfservices.type_service.fillna('Rien')),\n",
    "                   dfservices.id_station,\n",
    "                   vectorize.get_feature_names(),\n",
    "                   default_fill_value=0\n",
    "                  ).reset_index()\n"
   ]
  },
  {
   "cell_type": "code",
   "execution_count": 50,
   "metadata": {},
   "outputs": [
    {
     "data": {
      "text/html": [
       "<div>\n",
       "<style>\n",
       "    .dataframe thead tr:only-child th {\n",
       "        text-align: right;\n",
       "    }\n",
       "\n",
       "    .dataframe thead th {\n",
       "        text-align: left;\n",
       "    }\n",
       "\n",
       "    .dataframe tbody tr th {\n",
       "        vertical-align: top;\n",
       "    }\n",
       "</style>\n",
       "<table border=\"1\" class=\"dataframe\">\n",
       "  <thead>\n",
       "    <tr style=\"text-align: right;\">\n",
       "      <th></th>\n",
       "      <th>id_station</th>\n",
       "      <th>Aire de camping-cars</th>\n",
       "      <th>Automate CB</th>\n",
       "      <th>Baie de service auto</th>\n",
       "      <th>Bar</th>\n",
       "      <th>Boutique alimentaire</th>\n",
       "      <th>Boutique non alimentaire</th>\n",
       "      <th>Carburant qualité supérieure</th>\n",
       "      <th>Douches</th>\n",
       "      <th>Espace bébé / change</th>\n",
       "      <th>...</th>\n",
       "      <th>Relais colis</th>\n",
       "      <th>Restauration sur place</th>\n",
       "      <th>Restauration à emporter</th>\n",
       "      <th>Rien</th>\n",
       "      <th>Station de gonflage</th>\n",
       "      <th>Station de lavage</th>\n",
       "      <th>Toilettes publiques</th>\n",
       "      <th>Vente de fioul domestique</th>\n",
       "      <th>Vente de gaz domestique</th>\n",
       "      <th>Vente de pétrole lampant</th>\n",
       "    </tr>\n",
       "  </thead>\n",
       "  <tbody>\n",
       "    <tr>\n",
       "      <th>0</th>\n",
       "      <td>1000001</td>\n",
       "      <td>0</td>\n",
       "      <td>1</td>\n",
       "      <td>0</td>\n",
       "      <td>0</td>\n",
       "      <td>0</td>\n",
       "      <td>0</td>\n",
       "      <td>0</td>\n",
       "      <td>0</td>\n",
       "      <td>0</td>\n",
       "      <td>...</td>\n",
       "      <td>0</td>\n",
       "      <td>0</td>\n",
       "      <td>0</td>\n",
       "      <td>0</td>\n",
       "      <td>1</td>\n",
       "      <td>0</td>\n",
       "      <td>0</td>\n",
       "      <td>0</td>\n",
       "      <td>1</td>\n",
       "      <td>0</td>\n",
       "    </tr>\n",
       "    <tr>\n",
       "      <th>1</th>\n",
       "      <td>1000002</td>\n",
       "      <td>0</td>\n",
       "      <td>1</td>\n",
       "      <td>0</td>\n",
       "      <td>0</td>\n",
       "      <td>0</td>\n",
       "      <td>0</td>\n",
       "      <td>0</td>\n",
       "      <td>0</td>\n",
       "      <td>0</td>\n",
       "      <td>...</td>\n",
       "      <td>0</td>\n",
       "      <td>0</td>\n",
       "      <td>0</td>\n",
       "      <td>0</td>\n",
       "      <td>0</td>\n",
       "      <td>0</td>\n",
       "      <td>0</td>\n",
       "      <td>0</td>\n",
       "      <td>1</td>\n",
       "      <td>0</td>\n",
       "    </tr>\n",
       "    <tr>\n",
       "      <th>2</th>\n",
       "      <td>1000004</td>\n",
       "      <td>0</td>\n",
       "      <td>0</td>\n",
       "      <td>0</td>\n",
       "      <td>0</td>\n",
       "      <td>1</td>\n",
       "      <td>1</td>\n",
       "      <td>1</td>\n",
       "      <td>0</td>\n",
       "      <td>0</td>\n",
       "      <td>...</td>\n",
       "      <td>1</td>\n",
       "      <td>0</td>\n",
       "      <td>0</td>\n",
       "      <td>0</td>\n",
       "      <td>1</td>\n",
       "      <td>0</td>\n",
       "      <td>1</td>\n",
       "      <td>1</td>\n",
       "      <td>1</td>\n",
       "      <td>0</td>\n",
       "    </tr>\n",
       "    <tr>\n",
       "      <th>3</th>\n",
       "      <td>1000005</td>\n",
       "      <td>0</td>\n",
       "      <td>1</td>\n",
       "      <td>0</td>\n",
       "      <td>0</td>\n",
       "      <td>1</td>\n",
       "      <td>1</td>\n",
       "      <td>1</td>\n",
       "      <td>0</td>\n",
       "      <td>0</td>\n",
       "      <td>...</td>\n",
       "      <td>0</td>\n",
       "      <td>0</td>\n",
       "      <td>0</td>\n",
       "      <td>0</td>\n",
       "      <td>1</td>\n",
       "      <td>1</td>\n",
       "      <td>0</td>\n",
       "      <td>0</td>\n",
       "      <td>1</td>\n",
       "      <td>0</td>\n",
       "    </tr>\n",
       "    <tr>\n",
       "      <th>4</th>\n",
       "      <td>1000006</td>\n",
       "      <td>0</td>\n",
       "      <td>0</td>\n",
       "      <td>0</td>\n",
       "      <td>0</td>\n",
       "      <td>0</td>\n",
       "      <td>0</td>\n",
       "      <td>0</td>\n",
       "      <td>0</td>\n",
       "      <td>0</td>\n",
       "      <td>...</td>\n",
       "      <td>0</td>\n",
       "      <td>0</td>\n",
       "      <td>0</td>\n",
       "      <td>0</td>\n",
       "      <td>0</td>\n",
       "      <td>0</td>\n",
       "      <td>0</td>\n",
       "      <td>0</td>\n",
       "      <td>1</td>\n",
       "      <td>0</td>\n",
       "    </tr>\n",
       "  </tbody>\n",
       "</table>\n",
       "<p>5 rows × 26 columns</p>\n",
       "</div>"
      ],
      "text/plain": [
       "   id_station  Aire de camping-cars  Automate CB  Baie de service auto  Bar  \\\n",
       "0     1000001                     0            1                     0    0   \n",
       "1     1000002                     0            1                     0    0   \n",
       "2     1000004                     0            0                     0    0   \n",
       "3     1000005                     0            1                     0    0   \n",
       "4     1000006                     0            0                     0    0   \n",
       "\n",
       "   Boutique alimentaire  Boutique non alimentaire  \\\n",
       "0                     0                         0   \n",
       "1                     0                         0   \n",
       "2                     1                         1   \n",
       "3                     1                         1   \n",
       "4                     0                         0   \n",
       "\n",
       "   Carburant qualité supérieure  Douches  Espace bébé / change  \\\n",
       "0                             0        0                     0   \n",
       "1                             0        0                     0   \n",
       "2                             1        0                     0   \n",
       "3                             1        0                     0   \n",
       "4                             0        0                     0   \n",
       "\n",
       "             ...             Relais colis  Restauration sur place  \\\n",
       "0            ...                        0                       0   \n",
       "1            ...                        0                       0   \n",
       "2            ...                        1                       0   \n",
       "3            ...                        0                       0   \n",
       "4            ...                        0                       0   \n",
       "\n",
       "   Restauration à emporter  Rien  Station de gonflage  Station de lavage  \\\n",
       "0                        0     0                    1                  0   \n",
       "1                        0     0                    0                  0   \n",
       "2                        0     0                    1                  0   \n",
       "3                        0     0                    1                  1   \n",
       "4                        0     0                    0                  0   \n",
       "\n",
       "   Toilettes publiques  Vente de fioul domestique  Vente de gaz domestique  \\\n",
       "0                    0                          0                        1   \n",
       "1                    0                          0                        1   \n",
       "2                    1                          1                        1   \n",
       "3                    0                          0                        1   \n",
       "4                    0                          0                        1   \n",
       "\n",
       "   Vente de pétrole lampant  \n",
       "0                         0  \n",
       "1                         0  \n",
       "2                         0  \n",
       "3                         0  \n",
       "4                         0  \n",
       "\n",
       "[5 rows x 26 columns]"
      ]
     },
     "execution_count": 50,
     "metadata": {},
     "output_type": "execute_result"
    }
   ],
   "source": [
    "matrice_services_df.head()"
   ]
  },
  {
   "cell_type": "code",
   "execution_count": 63,
   "metadata": {
    "collapsed": true
   },
   "outputs": [],
   "source": [
    "model_service_df = model_df.merge(matrice_services_df, how='inner', on=['id_station'])"
   ]
  },
  {
   "cell_type": "code",
   "execution_count": 53,
   "metadata": {},
   "outputs": [
    {
     "data": {
      "text/html": [
       "<div>\n",
       "<style>\n",
       "    .dataframe thead tr:only-child th {\n",
       "        text-align: right;\n",
       "    }\n",
       "\n",
       "    .dataframe thead th {\n",
       "        text-align: left;\n",
       "    }\n",
       "\n",
       "    .dataframe tbody tr th {\n",
       "        vertical-align: top;\n",
       "    }\n",
       "</style>\n",
       "<table border=\"1\" class=\"dataframe\">\n",
       "  <thead>\n",
       "    <tr style=\"text-align: right;\">\n",
       "      <th></th>\n",
       "      <th>id_station</th>\n",
       "      <th>code_postal</th>\n",
       "      <th>type_station</th>\n",
       "      <th>libele_carburant</th>\n",
       "      <th>date_releve</th>\n",
       "      <th>prix_station</th>\n",
       "      <th>prix_moyen</th>\n",
       "      <th>indice</th>\n",
       "      <th>Aire de camping-cars</th>\n",
       "      <th>Automate CB</th>\n",
       "      <th>...</th>\n",
       "      <th>Relais colis</th>\n",
       "      <th>Restauration sur place</th>\n",
       "      <th>Restauration à emporter</th>\n",
       "      <th>Rien</th>\n",
       "      <th>Station de gonflage</th>\n",
       "      <th>Station de lavage</th>\n",
       "      <th>Toilettes publiques</th>\n",
       "      <th>Vente de fioul domestique</th>\n",
       "      <th>Vente de gaz domestique</th>\n",
       "      <th>Vente de pétrole lampant</th>\n",
       "    </tr>\n",
       "  </thead>\n",
       "  <tbody>\n",
       "    <tr>\n",
       "      <th>0</th>\n",
       "      <td>1000001</td>\n",
       "      <td>01000</td>\n",
       "      <td>R</td>\n",
       "      <td>E10</td>\n",
       "      <td>2015-02-08</td>\n",
       "      <td>1309.0</td>\n",
       "      <td>1304.997704</td>\n",
       "      <td>1.003067</td>\n",
       "      <td>0</td>\n",
       "      <td>1</td>\n",
       "      <td>...</td>\n",
       "      <td>0</td>\n",
       "      <td>0</td>\n",
       "      <td>0</td>\n",
       "      <td>0</td>\n",
       "      <td>1</td>\n",
       "      <td>0</td>\n",
       "      <td>0</td>\n",
       "      <td>0</td>\n",
       "      <td>1</td>\n",
       "      <td>0</td>\n",
       "    </tr>\n",
       "    <tr>\n",
       "      <th>1</th>\n",
       "      <td>1000001</td>\n",
       "      <td>01000</td>\n",
       "      <td>R</td>\n",
       "      <td>Gazole</td>\n",
       "      <td>2014-01-05</td>\n",
       "      <td>1304.0</td>\n",
       "      <td>1339.946350</td>\n",
       "      <td>0.973173</td>\n",
       "      <td>0</td>\n",
       "      <td>1</td>\n",
       "      <td>...</td>\n",
       "      <td>0</td>\n",
       "      <td>0</td>\n",
       "      <td>0</td>\n",
       "      <td>0</td>\n",
       "      <td>1</td>\n",
       "      <td>0</td>\n",
       "      <td>0</td>\n",
       "      <td>0</td>\n",
       "      <td>1</td>\n",
       "      <td>0</td>\n",
       "    </tr>\n",
       "    <tr>\n",
       "      <th>2</th>\n",
       "      <td>1000001</td>\n",
       "      <td>01000</td>\n",
       "      <td>R</td>\n",
       "      <td>Gazole</td>\n",
       "      <td>2014-01-12</td>\n",
       "      <td>1304.0</td>\n",
       "      <td>1333.624184</td>\n",
       "      <td>0.977787</td>\n",
       "      <td>0</td>\n",
       "      <td>1</td>\n",
       "      <td>...</td>\n",
       "      <td>0</td>\n",
       "      <td>0</td>\n",
       "      <td>0</td>\n",
       "      <td>0</td>\n",
       "      <td>1</td>\n",
       "      <td>0</td>\n",
       "      <td>0</td>\n",
       "      <td>0</td>\n",
       "      <td>1</td>\n",
       "      <td>0</td>\n",
       "    </tr>\n",
       "    <tr>\n",
       "      <th>3</th>\n",
       "      <td>1000001</td>\n",
       "      <td>01000</td>\n",
       "      <td>R</td>\n",
       "      <td>Gazole</td>\n",
       "      <td>2014-01-19</td>\n",
       "      <td>1304.0</td>\n",
       "      <td>1323.595659</td>\n",
       "      <td>0.985195</td>\n",
       "      <td>0</td>\n",
       "      <td>1</td>\n",
       "      <td>...</td>\n",
       "      <td>0</td>\n",
       "      <td>0</td>\n",
       "      <td>0</td>\n",
       "      <td>0</td>\n",
       "      <td>1</td>\n",
       "      <td>0</td>\n",
       "      <td>0</td>\n",
       "      <td>0</td>\n",
       "      <td>1</td>\n",
       "      <td>0</td>\n",
       "    </tr>\n",
       "    <tr>\n",
       "      <th>4</th>\n",
       "      <td>1000001</td>\n",
       "      <td>01000</td>\n",
       "      <td>R</td>\n",
       "      <td>Gazole</td>\n",
       "      <td>2014-01-26</td>\n",
       "      <td>1304.0</td>\n",
       "      <td>1323.035136</td>\n",
       "      <td>0.985613</td>\n",
       "      <td>0</td>\n",
       "      <td>1</td>\n",
       "      <td>...</td>\n",
       "      <td>0</td>\n",
       "      <td>0</td>\n",
       "      <td>0</td>\n",
       "      <td>0</td>\n",
       "      <td>1</td>\n",
       "      <td>0</td>\n",
       "      <td>0</td>\n",
       "      <td>0</td>\n",
       "      <td>1</td>\n",
       "      <td>0</td>\n",
       "    </tr>\n",
       "  </tbody>\n",
       "</table>\n",
       "<p>5 rows × 33 columns</p>\n",
       "</div>"
      ],
      "text/plain": [
       "   id_station code_postal type_station libele_carburant date_releve  \\\n",
       "0     1000001       01000            R              E10  2015-02-08   \n",
       "1     1000001       01000            R           Gazole  2014-01-05   \n",
       "2     1000001       01000            R           Gazole  2014-01-12   \n",
       "3     1000001       01000            R           Gazole  2014-01-19   \n",
       "4     1000001       01000            R           Gazole  2014-01-26   \n",
       "\n",
       "   prix_station   prix_moyen    indice  Aire de camping-cars  Automate CB  \\\n",
       "0        1309.0  1304.997704  1.003067                     0            1   \n",
       "1        1304.0  1339.946350  0.973173                     0            1   \n",
       "2        1304.0  1333.624184  0.977787                     0            1   \n",
       "3        1304.0  1323.595659  0.985195                     0            1   \n",
       "4        1304.0  1323.035136  0.985613                     0            1   \n",
       "\n",
       "             ...             Relais colis  Restauration sur place  \\\n",
       "0            ...                        0                       0   \n",
       "1            ...                        0                       0   \n",
       "2            ...                        0                       0   \n",
       "3            ...                        0                       0   \n",
       "4            ...                        0                       0   \n",
       "\n",
       "   Restauration à emporter  Rien  Station de gonflage  Station de lavage  \\\n",
       "0                        0     0                    1                  0   \n",
       "1                        0     0                    1                  0   \n",
       "2                        0     0                    1                  0   \n",
       "3                        0     0                    1                  0   \n",
       "4                        0     0                    1                  0   \n",
       "\n",
       "   Toilettes publiques  Vente de fioul domestique  Vente de gaz domestique  \\\n",
       "0                    0                          0                        1   \n",
       "1                    0                          0                        1   \n",
       "2                    0                          0                        1   \n",
       "3                    0                          0                        1   \n",
       "4                    0                          0                        1   \n",
       "\n",
       "   Vente de pétrole lampant  \n",
       "0                         0  \n",
       "1                         0  \n",
       "2                         0  \n",
       "3                         0  \n",
       "4                         0  \n",
       "\n",
       "[5 rows x 33 columns]"
      ]
     },
     "execution_count": 53,
     "metadata": {},
     "output_type": "execute_result"
    }
   ],
   "source": [
    "model_df.merge(matrice_services_df, how='inner', on=['id_station']).head()"
   ]
  },
  {
   "cell_type": "code",
   "execution_count": 54,
   "metadata": {},
   "outputs": [
    {
     "data": {
      "text/plain": [
       "both          3225864\n",
       "right_only       1147\n",
       "left_only           0\n",
       "Name: _merge, dtype: int64"
      ]
     },
     "execution_count": 54,
     "metadata": {},
     "output_type": "execute_result"
    }
   ],
   "source": [
    "(model_df\n",
    " .merge(matrice_services_df, how='right', on=['id_station'], indicator=True)\n",
    " ['_merge']\n",
    " .value_counts())\n",
    " \n",
    "        "
   ]
  },
  {
   "cell_type": "code",
   "execution_count": 57,
   "metadata": {},
   "outputs": [],
   "source": [
    "#### Régression \n",
    "from sklearn.linear_model import LinearRegression"
   ]
  },
  {
   "cell_type": "code",
   "execution_count": 58,
   "metadata": {
    "collapsed": true
   },
   "outputs": [],
   "source": [
    "lr = LinearRegression()"
   ]
  },
  {
   "cell_type": "code",
   "execution_count": 64,
   "metadata": {},
   "outputs": [
    {
     "data": {
      "text/plain": [
       "LinearRegression(copy_X=True, fit_intercept=True, n_jobs=1, normalize=False)"
      ]
     },
     "execution_count": 64,
     "metadata": {},
     "output_type": "execute_result"
    }
   ],
   "source": [
    "lr.fit(X=model_service_df[list(set(matrice_services_df.columns)-{'id_station'})], y=model_service_df.indice)"
   ]
  },
  {
   "cell_type": "code",
   "execution_count": 65,
   "metadata": {},
   "outputs": [
    {
     "data": {
      "text/plain": [
       "array([ 0.04526709,  0.01838966, -0.0132926 ,  0.00948109,  0.01420827,\n",
       "       -0.00358531, -0.00737743, -0.00028823, -0.0009459 ,  0.01840335,\n",
       "        0.006948  , -0.01306229,  0.00130456,  0.00247352,  0.00500162,\n",
       "       -0.00751638, -0.01873387, -0.00044255,  0.00567936, -0.00370448,\n",
       "       -0.00798201, -0.00817413, -0.00135911, -0.00771448, -0.01498886])"
      ]
     },
     "execution_count": 65,
     "metadata": {},
     "output_type": "execute_result"
    }
   ],
   "source": [
    "lr.coef_\n"
   ]
  },
  {
   "cell_type": "code",
   "execution_count": 66,
   "metadata": {},
   "outputs": [
    {
     "data": {
      "text/plain": [
       "[('Douches', 0.045267090872306771),\n",
       " ('Toilettes publiques', 0.018389656190184574),\n",
       " ('Rien', -0.013292597418083325),\n",
       " ('Station de gonflage', 0.0094810855509574066),\n",
       " ('Carburant qualité supérieure', 0.014208265007183515),\n",
       " ('Restauration à emporter', -0.0035853146203866388),\n",
       " ('GPL', -0.0073774283868960891),\n",
       " ('Aire de camping-cars', -0.0002882338433634014),\n",
       " ('Station de lavage', -0.00094589755723465015),\n",
       " ('Baie de service auto', 0.018403352872970069),\n",
       " ('Espace bébé / change', 0.0069479954744281099),\n",
       " ('Restauration sur place', -0.013062290653900931),\n",
       " ('Lavage haute-pression', 0.001304559222238556),\n",
       " ('Relais colis', 0.0024735225765190431),\n",
       " ('Vente de fioul domestique', 0.0050016231540090487),\n",
       " ('Vente de pétrole lampant', -0.0075163768635699282),\n",
       " ('Automate CB', -0.018733874001201453),\n",
       " ('Piste poids lourds', -0.0004425474673940763),\n",
       " ('Boutique non alimentaire', 0.0056793558187255566),\n",
       " ('Lavage multi-programmes', -0.0037044789322554852),\n",
       " ('Laverie', -0.0079820064039071523),\n",
       " ('Bar', -0.0081741270958147517),\n",
       " ('Boutique alimentaire', -0.0013591123371404432),\n",
       " ('Location de véhicule', -0.0077144811519668181),\n",
       " ('Vente de gaz domestique', -0.014988864019545051)]"
      ]
     },
     "execution_count": 66,
     "metadata": {},
     "output_type": "execute_result"
    }
   ],
   "source": [
    "[(f,c) for f, c in zip(list(set(matrice_services_df.columns)-{'id_station'}), lr.coef_)]"
   ]
  },
  {
   "cell_type": "code",
   "execution_count": 70,
   "metadata": {
    "collapsed": true
   },
   "outputs": [],
   "source": [
    "### Histogramme des résultats \n",
    "resultats = pd.DataFrame(\n",
    "    [(f,c) for f, c in zip(list(set(matrice_services_df.columns)-{'id_station'}), lr.coef_)],\n",
    "    columns=['type_service', 'coefficients']).sort_values('coefficients', ascending=False)"
   ]
  },
  {
   "cell_type": "code",
   "execution_count": 72,
   "metadata": {},
   "outputs": [
    {
     "data": {
      "text/plain": [
       "<matplotlib.axes._subplots.AxesSubplot at 0x1d6821470f0>"
      ]
     },
     "execution_count": 72,
     "metadata": {},
     "output_type": "execute_result"
    },
    {
     "data": {
      "image/png": "[encoded data removed]",
      "text/plain": [
       "<matplotlib.figure.Figure at 0x1d681fe8f60>"
      ]
     },
     "metadata": {},
     "output_type": "display_data"
    }
   ],
   "source": [
    "resultats.set_index('type_service').plot(kind='barh')\n"
   ]
  },
  {
   "cell_type": "code",
   "execution_count": 74,
   "metadata": {
    "collapsed": true
   },
   "outputs": [],
   "source": [
    "### Utiliser une autre méthode que la régression linéaire, mais en random forest\n",
    "rf = RandomForestRegressor()"
   ]
  },
  {
   "cell_type": "code",
   "execution_count": 75,
   "metadata": {},
   "outputs": [
    {
     "data": {
      "text/plain": [
       "RandomForestRegressor(bootstrap=True, criterion='mse', max_depth=None,\n",
       "           max_features='auto', max_leaf_nodes=None,\n",
       "           min_impurity_split=1e-07, min_samples_leaf=1,\n",
       "           min_samples_split=2, min_weight_fraction_leaf=0.0,\n",
       "           n_estimators=10, n_jobs=1, oob_score=False, random_state=None,\n",
       "           verbose=0, warm_start=False)"
      ]
     },
     "execution_count": 75,
     "metadata": {},
     "output_type": "execute_result"
    }
   ],
   "source": [
    "rf.fit(X=model_service_df[list(set(matrice_services_df.columns)-{'id_station'})], y=model_service_df.indice)"
   ]
  },
  {
   "cell_type": "code",
   "execution_count": 82,
   "metadata": {},
   "outputs": [
    {
     "data": {
      "text/plain": [
       "array([  2.01794026e-01,   3.23439414e-02,   8.18185639e-05,\n",
       "         2.16657718e-02,   1.59454566e-01,   2.54501259e-02,\n",
       "         2.63312274e-02,   9.47812543e-03,   2.14447906e-02,\n",
       "         6.60668702e-02,   1.89525752e-02,   2.27508604e-02,\n",
       "         2.24924849e-02,   1.33131754e-02,   2.12629611e-02,\n",
       "         1.15815574e-02,   1.24549706e-01,   2.58192109e-02,\n",
       "         2.67057621e-02,   2.16040477e-02,   7.18430993e-03,\n",
       "         1.47172364e-02,   1.76393559e-02,   2.25372892e-02,\n",
       "         6.47782048e-02])"
      ]
     },
     "execution_count": 82,
     "metadata": {},
     "output_type": "execute_result"
    }
   ],
   "source": [
    "rf.feature_importances_"
   ]
  },
  {
   "cell_type": "code",
   "execution_count": 83,
   "metadata": {
    "collapsed": true
   },
   "outputs": [],
   "source": [
    "resultats_rf = pd.DataFrame(\n",
    "    [(f,c) for f, c in zip(list(set(matrice_services_df.columns)-{'id_station'}), rf.feature_importances_)],\n",
    "    columns=['type_service', 'coefficients']).sort_values('coefficients', ascending=False)"
   ]
  },
  {
   "cell_type": "code",
   "execution_count": 85,
   "metadata": {},
   "outputs": [
    {
     "data": {
      "text/plain": [
       "<matplotlib.axes._subplots.AxesSubplot at 0x1d683d02198>"
      ]
     },
     "execution_count": 85,
     "metadata": {},
     "output_type": "execute_result"
    },
    {
     "data": {
      "image/png": "[encoded data removed]",
      "text/plain": [
       "<matplotlib.figure.Figure at 0x1d683d0deb8>"
      ]
     },
     "metadata": {},
     "output_type": "display_data"
    }
   ],
   "source": [
    "resultats_rf.set_index('type_service').plot(kind='barh')"
   ]
  },
  {
   "cell_type": "code",
   "execution_count": null,
   "metadata": {
    "collapsed": true
   },
   "outputs": [],
   "source": []
  }
 ],
 "metadata": {
  "kernelspec": {
   "display_name": "Python 3",
   "language": "python",
   "name": "python3"
  },
  "language_info": {
   "codemirror_mode": {
    "name": "ipython",
    "version": 3
   },
   "file_extension": ".py",
   "mimetype": "text/x-python",
   "name": "python",
   "nbconvert_exporter": "python",
   "pygments_lexer": "ipython3",
   "version": "3.6.1"
  }
 },
 "nbformat": 4,
 "nbformat_minor": 2
}
